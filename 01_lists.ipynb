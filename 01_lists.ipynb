{
  "cells": [
    {
      "cell_type": "markdown",
      "metadata": {
        "id": "view-in-github",
        "colab_type": "text"
      },
      "source": [
        "<a href=\"https://colab.research.google.com/github/ogustavobrianti/Medidor-de-IMC/blob/main/01_lists.ipynb\" target=\"_parent\"><img src=\"https://colab.research.google.com/assets/colab-badge.svg\" alt=\"Open In Colab\"/></a>"
      ]
    },
    {
      "cell_type": "markdown",
      "metadata": {
        "id": "ER4QuimF6RwN"
      },
      "source": [
        "## **Revisão de Python**\n",
        "### Com foco em Machine Learning"
      ]
    },
    {
      "cell_type": "markdown",
      "metadata": {
        "id": "Xdk15PqR6RwP"
      },
      "source": [
        "## Lists\n",
        "Listas em Python representam uma **sequência de elementos _ordenados_**."
      ]
    },
    {
      "cell_type": "code",
      "execution_count": 2,
      "metadata": {
        "colab": {
          "base_uri": "https://localhost:8080/"
        },
        "id": "KDVvAZer6RwP",
        "outputId": "63621daf-596f-44ea-9bc2-8c5b204a0ef6"
      },
      "outputs": [
        {
          "output_type": "execute_result",
          "data": {
            "text/plain": [
              "[20, 11, 60, 5, 44, 28]"
            ]
          },
          "metadata": {},
          "execution_count": 2
        }
      ],
      "source": [
        "numeros_da_mega_sena = [20,11, 60, 5, 44, 28]\n",
        "numeros_da_mega_sena"
      ]
    },
    {
      "cell_type": "code",
      "source": [
        "type(numeros_da_mega_sena)"
      ],
      "metadata": {
        "colab": {
          "base_uri": "https://localhost:8080/"
        },
        "id": "M7AtcuHg8Kzr",
        "outputId": "97ca5628-1a03-4adc-d2f7-023df31a1e47"
      },
      "execution_count": 3,
      "outputs": [
        {
          "output_type": "execute_result",
          "data": {
            "text/plain": [
              "list"
            ]
          },
          "metadata": {},
          "execution_count": 3
        }
      ]
    },
    {
      "cell_type": "markdown",
      "metadata": {
        "id": "FfT3iQY96RwQ"
      },
      "source": [
        "A **ordenação** dos elementos refere-se a seus _posicionamentos_ na lista, ou seja, o primeiro elemento da lista é o 20, o segundo é o 11, e assim por diante. <br/>\n",
        "A **ordem** dos valores/conteúdos é outra coisa."
      ]
    },
    {
      "cell_type": "code",
      "execution_count": 4,
      "metadata": {
        "colab": {
          "base_uri": "https://localhost:8080/"
        },
        "id": "RCtVn8b86RwR",
        "outputId": "489f0743-9009-4dec-96f4-7f7bc3271560"
      },
      "outputs": [
        {
          "output_type": "execute_result",
          "data": {
            "text/plain": [
              "5"
            ]
          },
          "metadata": {},
          "execution_count": 4
        }
      ],
      "source": [
        "# os indices da lista começam com 0 e vão até n-1, onde n é o número de elemnetos # da lista (tamanho da lista)\n",
        "numeros_da_mega_sena[3]"
      ]
    },
    {
      "cell_type": "markdown",
      "metadata": {
        "id": "00u7Jq9O6RwR"
      },
      "source": [
        "#### Listas vazias"
      ]
    },
    {
      "cell_type": "code",
      "execution_count": 5,
      "metadata": {
        "colab": {
          "base_uri": "https://localhost:8080/"
        },
        "id": "Xgvt1xPk6RwR",
        "outputId": "e9340883-a887-4f3b-ee79-2173335598d5"
      },
      "outputs": [
        {
          "output_type": "execute_result",
          "data": {
            "text/plain": [
              "[]"
            ]
          },
          "metadata": {},
          "execution_count": 5
        }
      ],
      "source": [
        "lista_vazia_1=[]\n",
        "lista_vazia_1"
      ]
    },
    {
      "cell_type": "code",
      "execution_count": 6,
      "metadata": {
        "colab": {
          "base_uri": "https://localhost:8080/"
        },
        "id": "BXzHI8Ol6RwS",
        "outputId": "d1af6741-2835-4001-aabf-d38f5919a067"
      },
      "outputs": [
        {
          "output_type": "execute_result",
          "data": {
            "text/plain": [
              "[]"
            ]
          },
          "metadata": {},
          "execution_count": 6
        }
      ],
      "source": [
        "lista_vazia_2=list()\n",
        "lista_vazia_2"
      ]
    },
    {
      "cell_type": "markdown",
      "metadata": {
        "id": "eUrqD8086RwS"
      },
      "source": [
        "#### Listas podem ter elementos de _qualquer tipo_"
      ]
    },
    {
      "cell_type": "code",
      "execution_count": 27,
      "metadata": {
        "colab": {
          "base_uri": "https://localhost:8080/"
        },
        "id": "IyalJL7B6RwS",
        "outputId": "e0ec5b1d-5d79-4259-88f5-ca897fc5b5dd"
      },
      "outputs": [
        {
          "output_type": "execute_result",
          "data": {
            "text/plain": [
              "['mercurio',\n",
              " 'venus',\n",
              " 'terra',\n",
              " 'marte',\n",
              " 'jupiter',\n",
              " 'saturno',\n",
              " 'urano',\n",
              " 'netuno']"
            ]
          },
          "metadata": {},
          "execution_count": 27
        }
      ],
      "source": [
        "planetas = ['mercurio', 'venus', 'terra', 'marte', 'jupiter', 'saturno', 'urano', 'netuno']\n",
        "planetas"
      ]
    },
    {
      "cell_type": "code",
      "source": [
        "print(planetas)"
      ],
      "metadata": {
        "colab": {
          "base_uri": "https://localhost:8080/"
        },
        "id": "jWsWa-YC-PoU",
        "outputId": "c16d5ea2-c437-44f6-c588-92a90904c7e9"
      },
      "execution_count": 8,
      "outputs": [
        {
          "output_type": "stream",
          "name": "stdout",
          "text": [
            "['mercurio', 'venus', 'terra', 'marte', 'jupiter', 'saturno', 'urano', 'netuno']\n"
          ]
        }
      ]
    },
    {
      "cell_type": "code",
      "source": [
        "planetas[0]"
      ],
      "metadata": {
        "colab": {
          "base_uri": "https://localhost:8080/",
          "height": 35
        },
        "id": "q-duOcE_AOqw",
        "outputId": "45146b85-4c37-404c-e623-849089535972"
      },
      "execution_count": 28,
      "outputs": [
        {
          "output_type": "execute_result",
          "data": {
            "text/plain": [
              "'mercurio'"
            ],
            "application/vnd.google.colaboratory.intrinsic+json": {
              "type": "string"
            }
          },
          "metadata": {},
          "execution_count": 28
        }
      ]
    },
    {
      "cell_type": "code",
      "source": [
        "planetas[2]"
      ],
      "metadata": {
        "colab": {
          "base_uri": "https://localhost:8080/",
          "height": 35
        },
        "id": "RigGix5hATNY",
        "outputId": "83a40c85-e7bd-4c3b-fa49-010ecf177e11"
      },
      "execution_count": 17,
      "outputs": [
        {
          "output_type": "execute_result",
          "data": {
            "text/plain": [
              "'terra'"
            ],
            "application/vnd.google.colaboratory.intrinsic+json": {
              "type": "string"
            }
          },
          "metadata": {},
          "execution_count": 17
        }
      ]
    },
    {
      "cell_type": "code",
      "source": [
        "#checar o tamanho da lista\n",
        "len(planetas)"
      ],
      "metadata": {
        "colab": {
          "base_uri": "https://localhost:8080/"
        },
        "id": "_4_RzRPqAbww",
        "outputId": "714343c8-24af-4833-f567-40235a398f12"
      },
      "execution_count": 22,
      "outputs": [
        {
          "output_type": "execute_result",
          "data": {
            "text/plain": [
              "12"
            ]
          },
          "metadata": {},
          "execution_count": 22
        }
      ]
    },
    {
      "cell_type": "code",
      "source": [
        "planetas[8]"
      ],
      "metadata": {
        "colab": {
          "base_uri": "https://localhost:8080/"
        },
        "id": "UNkes0wfAcLh",
        "outputId": "ef59260c-69d7-40e0-a897-47407dfd885d"
      },
      "execution_count": 20,
      "outputs": [
        {
          "output_type": "execute_result",
          "data": {
            "text/plain": [
              "1"
            ]
          },
          "metadata": {},
          "execution_count": 20
        }
      ]
    },
    {
      "cell_type": "markdown",
      "metadata": {
        "id": "uLg06IF36RwS"
      },
      "source": [
        "#### Listas podem ter _tipos diferentes_ numa lista:"
      ]
    },
    {
      "cell_type": "code",
      "execution_count": 10,
      "metadata": {
        "colab": {
          "base_uri": "https://localhost:8080/"
        },
        "id": "GixLyWhV6RwS",
        "outputId": "458ec257-0a6d-40a5-a7d2-5651e75b145d"
      },
      "outputs": [
        {
          "output_type": "execute_result",
          "data": {
            "text/plain": [
              "['mercurio',\n",
              " 'venus',\n",
              " 'terra',\n",
              " 'marte',\n",
              " 'jupiter',\n",
              " 'saturno',\n",
              " 'urano',\n",
              " 'netuno',\n",
              " 1,\n",
              " 2,\n",
              " 3,\n",
              " 0]"
            ]
          },
          "metadata": {},
          "execution_count": 10
        }
      ],
      "source": [
        "planetas_e_numeros = ['mercurio', 'venus', 'terra', 'marte', 'jupiter', 'saturno', 'urano', 'netuno', 1, 2, 3, 0]\n",
        "planetas"
      ]
    },
    {
      "cell_type": "markdown",
      "metadata": {
        "id": "50dy-r2r6RwS"
      },
      "source": [
        "#### Podemos ter listas de listas"
      ]
    },
    {
      "cell_type": "code",
      "execution_count": 12,
      "metadata": {
        "colab": {
          "base_uri": "https://localhost:8080/"
        },
        "id": "wCe9LUY46RwS",
        "outputId": "b9203b4b-15b1-48bb-d0d1-6421176919e5"
      },
      "outputs": [
        {
          "output_type": "execute_result",
          "data": {
            "text/plain": [
              "[[1, 2, 3], [4, 5, 6], [7, 8, 9], [10, 11, 12]]"
            ]
          },
          "metadata": {},
          "execution_count": 12
        }
      ],
      "source": [
        "matriz=[\n",
        "    [1,2,3],\n",
        "    [4,5,6],\n",
        "    [7,8,9],\n",
        "    [10,11,12]\n",
        "]\n",
        "matriz"
      ]
    },
    {
      "cell_type": "code",
      "source": [
        "type(matriz[0])"
      ],
      "metadata": {
        "colab": {
          "base_uri": "https://localhost:8080/"
        },
        "id": "Rplk2UFY_iTw",
        "outputId": "bf86ebae-05c2-4f03-8a0b-897aa67c3370"
      },
      "execution_count": 13,
      "outputs": [
        {
          "output_type": "execute_result",
          "data": {
            "text/plain": [
              "list"
            ]
          },
          "metadata": {},
          "execution_count": 13
        }
      ]
    },
    {
      "cell_type": "code",
      "source": [
        "type(matriz)"
      ],
      "metadata": {
        "colab": {
          "base_uri": "https://localhost:8080/"
        },
        "id": "uK-EiBi9_n0W",
        "outputId": "1ad5abf4-fe09-43c6-d31e-45660e36ecd4"
      },
      "execution_count": 14,
      "outputs": [
        {
          "output_type": "execute_result",
          "data": {
            "text/plain": [
              "list"
            ]
          },
          "metadata": {},
          "execution_count": 14
        }
      ]
    },
    {
      "cell_type": "code",
      "source": [
        "#imprime a lista de jeito \"bonito\"\n",
        "for linha in matriz:\n",
        "  print (linha)"
      ],
      "metadata": {
        "colab": {
          "base_uri": "https://localhost:8080/"
        },
        "id": "ucxqLUa9_tZO",
        "outputId": "6e276226-aa68-41da-a7ab-cd3295297083"
      },
      "execution_count": 15,
      "outputs": [
        {
          "output_type": "stream",
          "name": "stdout",
          "text": [
            "[1, 2, 3]\n",
            "[4, 5, 6]\n",
            "[7, 8, 9]\n",
            "[10, 11, 12]\n"
          ]
        }
      ]
    },
    {
      "cell_type": "code",
      "source": [
        "matriz[1] [2] #linha posição 1, coluna posição 2"
      ],
      "metadata": {
        "id": "YfLrPbNb_7PW"
      },
      "execution_count": null,
      "outputs": []
    },
    {
      "cell_type": "code",
      "execution_count": null,
      "metadata": {
        "id": "8xfU4SdC6RwT"
      },
      "outputs": [],
      "source": []
    },
    {
      "cell_type": "code",
      "execution_count": null,
      "metadata": {
        "id": "Hlmellaa6RwT"
      },
      "outputs": [],
      "source": []
    },
    {
      "cell_type": "code",
      "execution_count": null,
      "metadata": {
        "id": "582o5LfM6RwT"
      },
      "outputs": [],
      "source": []
    },
    {
      "cell_type": "code",
      "execution_count": null,
      "metadata": {
        "id": "0qwypiWU6RwT"
      },
      "outputs": [],
      "source": []
    },
    {
      "cell_type": "markdown",
      "metadata": {
        "id": "yLsDiDX36RwT"
      },
      "source": [
        "### Indexação\n",
        "\n",
        "Cada elemento de uma lista é indexado a uma posição. <br/>\n",
        "Podemos acessar um elemento passando seu índice com []:"
      ]
    },
    {
      "cell_type": "code",
      "execution_count": null,
      "metadata": {
        "id": "0IrcnW__6RwT"
      },
      "outputs": [],
      "source": []
    },
    {
      "cell_type": "code",
      "execution_count": null,
      "metadata": {
        "id": "H0vrYrtM6RwT"
      },
      "outputs": [],
      "source": []
    },
    {
      "cell_type": "code",
      "execution_count": null,
      "metadata": {
        "id": "RUHy9x0m6RwT"
      },
      "outputs": [],
      "source": []
    },
    {
      "cell_type": "markdown",
      "metadata": {
        "id": "oQXu6ZLI6RwU"
      },
      "source": [
        "Listas em Python suporta **índices negativos**, cuja ordem de indexação é o contrário, começando do final para o início:"
      ]
    },
    {
      "cell_type": "code",
      "execution_count": 21,
      "metadata": {
        "colab": {
          "base_uri": "https://localhost:8080/"
        },
        "id": "_0hTaCfC6RwU",
        "outputId": "739ae306-3663-461a-e36d-0136033551da"
      },
      "outputs": [
        {
          "output_type": "execute_result",
          "data": {
            "text/plain": [
              "0"
            ]
          },
          "metadata": {},
          "execution_count": 21
        }
      ],
      "source": [
        "planetas[-1] #acessa o último elemento"
      ]
    },
    {
      "cell_type": "code",
      "execution_count": null,
      "metadata": {
        "id": "capPPt0y6RwU"
      },
      "outputs": [],
      "source": []
    },
    {
      "cell_type": "markdown",
      "metadata": {
        "id": "XwlswHTU6RwU"
      },
      "source": [
        "Podemos também acessar o _último elemento_ da lista desta maneira:"
      ]
    },
    {
      "cell_type": "code",
      "execution_count": 23,
      "metadata": {
        "colab": {
          "base_uri": "https://localhost:8080/"
        },
        "id": "EXTjlk6U6RwU",
        "outputId": "8012893e-87d3-40df-9213-4adf383645c8"
      },
      "outputs": [
        {
          "output_type": "execute_result",
          "data": {
            "text/plain": [
              "0"
            ]
          },
          "metadata": {},
          "execution_count": 23
        }
      ],
      "source": [
        "planetas[len(planetas) -1]"
      ]
    },
    {
      "cell_type": "markdown",
      "metadata": {
        "id": "ps4-sZMR6RwU"
      },
      "source": [
        "Inline-style:\n",
        "![](./imagens/exemplo_lista_indices.png)"
      ]
    },
    {
      "cell_type": "markdown",
      "metadata": {
        "id": "sxmqGlvF6RwU"
      },
      "source": [
        "### Slicing (fatiamento)\n",
        "Podemos retornar **uma cópia** dos elementos de um **intervalo contínuo** de uma lista."
      ]
    },
    {
      "cell_type": "code",
      "execution_count": 24,
      "metadata": {
        "colab": {
          "base_uri": "https://localhost:8080/"
        },
        "id": "GT6q__M-6RwV",
        "outputId": "0f354205-1f2c-4fb2-f18d-06582fc11311"
      },
      "outputs": [
        {
          "output_type": "execute_result",
          "data": {
            "text/plain": [
              "['mercurio', 'venus', 'terra']"
            ]
          },
          "metadata": {},
          "execution_count": 24
        }
      ],
      "source": [
        "planetas[0:3] #0:3 -> gera o intervalo0 (inclusive) a 3(exclusive) [0,3)"
      ]
    },
    {
      "cell_type": "markdown",
      "metadata": {
        "id": "2Q_noOCB6RwV"
      },
      "source": [
        "`planetas[0:3]` é nosso jeito de consultar os elementos da lista `planetas` do índice 0 até o índice 3 (sem incluí-lo)."
      ]
    },
    {
      "cell_type": "markdown",
      "metadata": {
        "id": "xGWEX9R86RwV"
      },
      "source": [
        "#### Entendendo os índices de um Intervalo\n",
        "Um intervalo em python sempre **inclui** o número passado como **limite inferior** e *exclui* o número do *limite superior* do intervalo.\n",
        "\n",
        "`[10:15]` são os números do intervalo [10, 15), ou seja, [10, 11, 12, 13, 14]"
      ]
    },
    {
      "cell_type": "markdown",
      "metadata": {
        "id": "mji4_W_36RwV"
      },
      "source": [
        "#### De volta ao slicing"
      ]
    },
    {
      "cell_type": "markdown",
      "metadata": {
        "id": "KauacTjq6RwV"
      },
      "source": [
        "Os índices iniciais e finais do intervalo do _slicing_ são **opcionais**.\n",
        "\n",
        "Se não informarmos o _índice inicial_, o valor 0 é assumido:"
      ]
    },
    {
      "cell_type": "code",
      "execution_count": 25,
      "metadata": {
        "colab": {
          "base_uri": "https://localhost:8080/"
        },
        "id": "DgKPstdU6RwV",
        "outputId": "15fa1b5f-4ba4-4f9a-db6c-6d88ff7a215e"
      },
      "outputs": [
        {
          "output_type": "execute_result",
          "data": {
            "text/plain": [
              "['mercurio', 'venus', 'terra']"
            ]
          },
          "metadata": {},
          "execution_count": 25
        }
      ],
      "source": [
        "planetas[:3]"
      ]
    },
    {
      "cell_type": "code",
      "source": [
        "planetas [3:]"
      ],
      "metadata": {
        "colab": {
          "base_uri": "https://localhost:8080/"
        },
        "id": "b7UY7Wj2CYtG",
        "outputId": "2ef9cff9-93a0-4a10-ce15-9ecedd353108"
      },
      "execution_count": 26,
      "outputs": [
        {
          "output_type": "execute_result",
          "data": {
            "text/plain": [
              "['marte', 'jupiter', 'saturno', 'urano', 'netuno', 1, 2, 3, 0]"
            ]
          },
          "metadata": {},
          "execution_count": 26
        }
      ]
    },
    {
      "cell_type": "code",
      "execution_count": null,
      "metadata": {
        "id": "7Do5doBm6RwV"
      },
      "outputs": [],
      "source": []
    },
    {
      "cell_type": "markdown",
      "metadata": {
        "id": "RFsP7gN86RwW"
      },
      "source": [
        "Se ignorarmos o _índice final_, é assumido o _tamanho da lista_ `len(lista)`:"
      ]
    },
    {
      "cell_type": "code",
      "execution_count": null,
      "metadata": {
        "id": "wMmlcaRK6RwW"
      },
      "outputs": [],
      "source": []
    },
    {
      "cell_type": "markdown",
      "metadata": {
        "id": "UlS4rVFw6RwW"
      },
      "source": [
        "Podemos também fazer o slicing com **índices negativos**:"
      ]
    },
    {
      "cell_type": "code",
      "execution_count": null,
      "metadata": {
        "id": "lA7uxaGk6RwX"
      },
      "outputs": [],
      "source": [
        "planetas[1:-1] #lembrando que o último é exclusivo"
      ]
    },
    {
      "cell_type": "markdown",
      "metadata": {
        "id": "ObpGZUqG6RwX"
      },
      "source": [
        "`planetas[1:-1]` considera o intervalo que vai do índice [1], o **incluindo**, até o índice [-1] ou [len(planetas) - 1], no exemplo é o índice [7], o **excluindo**. <br/>\n",
        "Portanto, o intervalo retornado contém os índices [1, 2, 3, 4, 5, 6]."
      ]
    },
    {
      "cell_type": "markdown",
      "metadata": {
        "id": "OQazAGve6RwX"
      },
      "source": [
        "<br/>"
      ]
    },
    {
      "cell_type": "markdown",
      "metadata": {
        "id": "WTVBcPK36RwX"
      },
      "source": [
        "Outro exemplo:"
      ]
    },
    {
      "cell_type": "code",
      "execution_count": 29,
      "metadata": {
        "colab": {
          "base_uri": "https://localhost:8080/"
        },
        "id": "eVsvecMu6RwY",
        "outputId": "f518cf53-65fb-4ad7-c9b5-6a03e342870b"
      },
      "outputs": [
        {
          "output_type": "stream",
          "name": "stdout",
          "text": [
            "['mercurio', 'venus', 'terra', 'marte', 'jupiter', 'saturno', 'urano', 'netuno']\n"
          ]
        }
      ],
      "source": [
        "print(planetas)"
      ]
    },
    {
      "cell_type": "code",
      "execution_count": 30,
      "metadata": {
        "colab": {
          "base_uri": "https://localhost:8080/"
        },
        "id": "9bpKSlv56RwY",
        "outputId": "a4bd00ae-c8e1-4e8e-eb11-041b1db46d52"
      },
      "outputs": [
        {
          "output_type": "execute_result",
          "data": {
            "text/plain": [
              "['saturno', 'urano', 'netuno']"
            ]
          },
          "metadata": {},
          "execution_count": 30
        }
      ],
      "source": [
        "planetas[-3:]"
      ]
    },
    {
      "cell_type": "code",
      "source": [],
      "metadata": {
        "id": "BXhzPypvDFqe"
      },
      "execution_count": null,
      "outputs": []
    },
    {
      "cell_type": "markdown",
      "metadata": {
        "id": "kqKUpN6t6RwY"
      },
      "source": [
        "Vamos entender o intervalo `[-3:]`.\n",
        "\n",
        "O índice `[-3]` corresponde ao índice `[len(planetas) - 3]`, ou seja, o índice `[5]`. <br/>\n",
        "Portanto, `[-3:]` é sinônonimo de `[5:]`.\n",
        "\n",
        "Ao omitir o último índice do intervalo, consideramos por padrão `len(planetas)`, que é 8. <br/>\n",
        "Logo, `[-3:]` é o mesmo que `[5:8]`, que resulta nos índices `[5, 6, 7]`, que são os índices dos 3 últimos elementos dessa lista."
      ]
    },
    {
      "cell_type": "markdown",
      "metadata": {
        "id": "j1t88Xsq6RwY"
      },
      "source": [
        "#### Os elementos retornados pelo Slicing de Listas a uma variável são CÓPIAS"
      ]
    },
    {
      "cell_type": "code",
      "execution_count": 37,
      "metadata": {
        "colab": {
          "base_uri": "https://localhost:8080/"
        },
        "id": "1ICamrcM6RwY",
        "outputId": "ff4657a5-aace-453a-fcd0-aca4cb4ff5c4"
      },
      "outputs": [
        {
          "output_type": "stream",
          "name": "stdout",
          "text": [
            "['Brasil', 'Holanda', 'Itália']\n",
            "['mercurio', 'venus', 'terra', 'marte', 'jupiter', 'Brasil', 'Holanda', 'Itália']\n"
          ]
        }
      ],
      "source": [
        "ultimos_planetas = planetas[-3:]\n",
        "planetas[-3] = 'Brasil'\n",
        "planetas[-2] = 'Holanda'\n",
        "planetas[-1] = 'Itália'\n",
        "print(ultimos_planetas)\n",
        "print(planetas)"
      ]
    },
    {
      "cell_type": "code",
      "execution_count": 38,
      "metadata": {
        "id": "DFwdLslV6RwY"
      },
      "outputs": [],
      "source": [
        "#alternativa para alterar o valor\n",
        "planetas[-3:] = ['Brasil', 'Holanda', 'Itália']"
      ]
    },
    {
      "cell_type": "markdown",
      "metadata": {
        "id": "BHiLD9zI6RwZ"
      },
      "source": [
        "#### Alteração de Múltiplos elementos de uma Lista via Slicing"
      ]
    },
    {
      "cell_type": "code",
      "execution_count": 39,
      "metadata": {
        "colab": {
          "base_uri": "https://localhost:8080/"
        },
        "id": "9bRawPoP6RwZ",
        "outputId": "d22f11f9-9c8b-468f-9da9-f53870e52597"
      },
      "outputs": [
        {
          "output_type": "stream",
          "name": "stdout",
          "text": [
            "['mercurio', 'Japão', 'jupiter', 'Brasil', 'Holanda', 'Itália']\n"
          ]
        }
      ],
      "source": [
        "planetas[1:4]=['Japão']\n",
        "print(planetas)"
      ]
    },
    {
      "cell_type": "markdown",
      "metadata": {
        "id": "JD1qHKqh6RwZ"
      },
      "source": [
        "<br/>\n",
        "\n",
        "Se o **número de elementos atribuídos for DIFERENTE do número de elementos do slicing**, os elementos excedentos ou faltantes da lista são ignorados ===> TOME CUIDADO"
      ]
    },
    {
      "cell_type": "code",
      "execution_count": null,
      "metadata": {
        "id": "a2RBQEdW6RwZ"
      },
      "outputs": [],
      "source": []
    },
    {
      "cell_type": "markdown",
      "metadata": {
        "id": "_GYnhl-x6RwZ"
      },
      "source": [
        "### For-each em Listas\n",
        "Como mostrado no notebook anterior, podemos iterar elementos em uma lista:"
      ]
    },
    {
      "cell_type": "code",
      "execution_count": 40,
      "metadata": {
        "colab": {
          "base_uri": "https://localhost:8080/"
        },
        "id": "sjMvdz-h6RwZ",
        "outputId": "52ba1400-072d-4f82-b7e1-c3b6b586e742"
      },
      "outputs": [
        {
          "output_type": "execute_result",
          "data": {
            "text/plain": [
              "['mercurio',\n",
              " 'venus',\n",
              " 'terra',\n",
              " 'marte',\n",
              " 'jupiter',\n",
              " 'saturno',\n",
              " 'urano',\n",
              " 'netuno']"
            ]
          },
          "metadata": {},
          "execution_count": 40
        }
      ],
      "source": [
        "planetas = ['mercurio', 'venus', 'terra', 'marte', 'jupiter', 'saturno', 'urano', 'netuno']\n",
        "planetas"
      ]
    },
    {
      "cell_type": "code",
      "execution_count": 44,
      "metadata": {
        "colab": {
          "base_uri": "https://localhost:8080/"
        },
        "id": "jSXJbYda6Rwa",
        "outputId": "1af7e37f-ef5a-4c60-f92f-6104dbdee2b8"
      },
      "outputs": [
        {
          "output_type": "stream",
          "name": "stdout",
          "text": [
            "planeta=mercurio\n",
            "planeta=venus\n",
            "planeta=terra\n",
            "planeta=marte\n",
            "planeta=jupiter\n",
            "planeta=saturno\n",
            "planeta=urano\n",
            "planeta=netuno\n"
          ]
        }
      ],
      "source": [
        "for planeta in planetas:\n",
        "  print(f'planeta={planeta}')"
      ]
    },
    {
      "cell_type": "code",
      "execution_count": 49,
      "metadata": {
        "colab": {
          "base_uri": "https://localhost:8080/"
        },
        "id": "tXOacEM96Rwa",
        "outputId": "0a79b8a8-1880-4268-b8bd-6c5356fdd49f"
      },
      "outputs": [
        {
          "output_type": "stream",
          "name": "stdout",
          "text": [
            "planeta=[planetas]\n",
            "planeta=[planetas]\n",
            "planeta=[planetas]\n"
          ]
        }
      ],
      "source": [
        "# quero iterar no intervalo [1,4]\n",
        "for planeta in planetas[1:4]:\n",
        "    print(f'planeta=[planetas]')"
      ]
    },
    {
      "cell_type": "markdown",
      "metadata": {
        "id": "KXvwIVUq6Rwa"
      },
      "source": [
        "No `for`, podemos também recuperar o **índice** e o *elemento* de uma lista, basta usarmos o comando `enumerate`:\n",
        "\n",
        "<code>\n",
        "    for i, elemento in enumerate(lista):\n",
        "        intrução 01\n",
        "        ....\n",
        "</code>"
      ]
    },
    {
      "cell_type": "code",
      "execution_count": 51,
      "metadata": {
        "colab": {
          "base_uri": "https://localhost:8080/",
          "height": 402
        },
        "id": "7NMrNzzU6Rwa",
        "outputId": "3f4a1dfb-bba2-43ef-a60f-5d637adccbb7"
      },
      "outputs": [
        {
          "output_type": "stream",
          "name": "stdout",
          "text": [
            "planeta=mercurio\n",
            "m\n",
            "planeta=venus\n",
            "e\n",
            "planeta=terra\n",
            "r\n",
            "planeta=marte\n",
            "t\n",
            "planeta=jupiter\n",
            "t\n",
            "planeta=saturno\n",
            "n\n",
            "planeta=urano\n"
          ]
        },
        {
          "output_type": "error",
          "ename": "IndexError",
          "evalue": "string index out of range",
          "traceback": [
            "\u001b[0;31m---------------------------------------------------------------------------\u001b[0m",
            "\u001b[0;31mIndexError\u001b[0m                                Traceback (most recent call last)",
            "\u001b[0;32m<ipython-input-51-f02d6eb3838f>\u001b[0m in \u001b[0;36m<cell line: 1>\u001b[0;34m()\u001b[0m\n\u001b[1;32m      1\u001b[0m \u001b[0;32mfor\u001b[0m \u001b[0mi\u001b[0m\u001b[0;34m,\u001b[0m \u001b[0mplaneta\u001b[0m \u001b[0;32min\u001b[0m \u001b[0menumerate\u001b[0m \u001b[0;34m(\u001b[0m\u001b[0mplanetas\u001b[0m\u001b[0;34m)\u001b[0m\u001b[0;34m:\u001b[0m\u001b[0;34m\u001b[0m\u001b[0;34m\u001b[0m\u001b[0m\n\u001b[1;32m      2\u001b[0m   \u001b[0mprint\u001b[0m\u001b[0;34m(\u001b[0m\u001b[0;34mf'planeta={planeta}'\u001b[0m\u001b[0;34m)\u001b[0m\u001b[0;34m\u001b[0m\u001b[0;34m\u001b[0m\u001b[0m\n\u001b[0;32m----> 3\u001b[0;31m   \u001b[0mprint\u001b[0m\u001b[0;34m(\u001b[0m\u001b[0mplaneta\u001b[0m\u001b[0;34m[\u001b[0m\u001b[0mi\u001b[0m\u001b[0;34m]\u001b[0m\u001b[0;34m)\u001b[0m\u001b[0;34m\u001b[0m\u001b[0;34m\u001b[0m\u001b[0m\n\u001b[0m",
            "\u001b[0;31mIndexError\u001b[0m: string index out of range"
          ]
        }
      ],
      "source": [
        "for i, planeta in enumerate (planetas):\n",
        "  print(f'planeta={planeta}')\n",
        "  print(planeta[i])"
      ]
    },
    {
      "cell_type": "code",
      "execution_count": null,
      "metadata": {
        "id": "HK1z7m7x6Rwa"
      },
      "outputs": [],
      "source": [
        "for i in range(len(planetas)):\n",
        "  print9f'Planeta'"
      ]
    },
    {
      "cell_type": "markdown",
      "metadata": {
        "id": "CbYqAn466Rwa"
      },
      "source": [
        "### Funções de Listas"
      ]
    },
    {
      "cell_type": "code",
      "execution_count": 52,
      "metadata": {
        "colab": {
          "base_uri": "https://localhost:8080/"
        },
        "id": "F1OSS0Mv6Rwa",
        "outputId": "4ef43838-2fd6-4bc4-fd91-6eb35e364788"
      },
      "outputs": [
        {
          "output_type": "stream",
          "name": "stdout",
          "text": [
            "['mercurio', 'venus', 'terra', 'marte', 'jupiter', 'saturno', 'urano', 'netuno']\n"
          ]
        }
      ],
      "source": [
        "print(planetas)"
      ]
    },
    {
      "cell_type": "markdown",
      "metadata": {
        "id": "9ERWbYdT6Rwb"
      },
      "source": [
        "`len` retorna o tamanho de uma lista (número de elements)"
      ]
    },
    {
      "cell_type": "code",
      "execution_count": 53,
      "metadata": {
        "colab": {
          "base_uri": "https://localhost:8080/"
        },
        "id": "5wViKjLE6Rwb",
        "outputId": "0731b293-0d13-4b85-862b-1dbd3f7b2168"
      },
      "outputs": [
        {
          "output_type": "execute_result",
          "data": {
            "text/plain": [
              "8"
            ]
          },
          "metadata": {},
          "execution_count": 53
        }
      ],
      "source": [
        "len(planetas)"
      ]
    },
    {
      "cell_type": "markdown",
      "metadata": {
        "id": "oA5v3FEz6Rwb"
      },
      "source": [
        "`min` retorna o menor elemento de uma lista"
      ]
    },
    {
      "cell_type": "code",
      "execution_count": 57,
      "metadata": {
        "colab": {
          "base_uri": "https://localhost:8080/"
        },
        "id": "rinpZ4aq6Rwb",
        "outputId": "161214e6-d653-415f-a0ce-72f0766f0c6b"
      },
      "outputs": [
        {
          "output_type": "execute_result",
          "data": {
            "text/plain": [
              "2"
            ]
          },
          "metadata": {},
          "execution_count": 57
        }
      ],
      "source": [
        "lista_de_numeros = [10, 50,654, 2]\n",
        "min(lista_de_numeros)"
      ]
    },
    {
      "cell_type": "markdown",
      "metadata": {
        "id": "qStvJBfz6Rwb"
      },
      "source": [
        "`max` retorna o maior elemento de uma lista"
      ]
    },
    {
      "cell_type": "code",
      "execution_count": 58,
      "metadata": {
        "colab": {
          "base_uri": "https://localhost:8080/"
        },
        "id": "2fnU7vSK6Rwb",
        "outputId": "701d7545-2e56-4428-a1ca-c31d7444c402"
      },
      "outputs": [
        {
          "output_type": "execute_result",
          "data": {
            "text/plain": [
              "654"
            ]
          },
          "metadata": {},
          "execution_count": 58
        }
      ],
      "source": [
        "lista_de_numeros = [10, 50,654, 2]\n",
        "max(lista_de_numeros)"
      ]
    },
    {
      "cell_type": "code",
      "source": [
        "max(planetas) #ultimo planeta em ordem alfabética"
      ],
      "metadata": {
        "colab": {
          "base_uri": "https://localhost:8080/",
          "height": 35
        },
        "id": "Zr5oKxXePslg",
        "outputId": "382ad068-b541-4609-e6c8-507528bb6235"
      },
      "execution_count": 59,
      "outputs": [
        {
          "output_type": "execute_result",
          "data": {
            "text/plain": [
              "'venus'"
            ],
            "application/vnd.google.colaboratory.intrinsic+json": {
              "type": "string"
            }
          },
          "metadata": {},
          "execution_count": 59
        }
      ]
    },
    {
      "cell_type": "markdown",
      "metadata": {
        "id": "WUd0CKOR6Rwb"
      },
      "source": [
        "`sum` retorna a soma de elementos de uma lista"
      ]
    },
    {
      "cell_type": "code",
      "execution_count": 60,
      "metadata": {
        "colab": {
          "base_uri": "https://localhost:8080/"
        },
        "id": "qmw6aLo_6Rwc",
        "outputId": "88090082-ac12-418f-824d-72f2d5d67a3c"
      },
      "outputs": [
        {
          "output_type": "execute_result",
          "data": {
            "text/plain": [
              "716"
            ]
          },
          "metadata": {},
          "execution_count": 60
        }
      ],
      "source": [
        "sum(lista_de_numeros)"
      ]
    },
    {
      "cell_type": "markdown",
      "metadata": {
        "id": "7L9UekzW6Rwc"
      },
      "source": [
        "### Métodos de Listas"
      ]
    },
    {
      "cell_type": "markdown",
      "metadata": {
        "id": "zF3QEsST6Rwc"
      },
      "source": [
        "`list.append` modifica uma lista adicionando um item (de qualquer tipo) no final."
      ]
    },
    {
      "cell_type": "code",
      "execution_count": 61,
      "metadata": {
        "colab": {
          "base_uri": "https://localhost:8080/"
        },
        "id": "SNHCgzxg6Rwc",
        "outputId": "c8985d9c-a34e-40ff-bb19-4d105dbd955a"
      },
      "outputs": [
        {
          "output_type": "execute_result",
          "data": {
            "text/plain": [
              "['mercurio',\n",
              " 'venus',\n",
              " 'terra',\n",
              " 'marte',\n",
              " 'jupiter',\n",
              " 'saturno',\n",
              " 'urano',\n",
              " 'netuno',\n",
              " 'Plutão']"
            ]
          },
          "metadata": {},
          "execution_count": 61
        }
      ],
      "source": [
        "planetas.append ('Plutão')\n",
        "planetas"
      ]
    },
    {
      "cell_type": "code",
      "execution_count": 62,
      "metadata": {
        "id": "wIumgWJC6Rwc"
      },
      "outputs": [],
      "source": []
    },
    {
      "cell_type": "markdown",
      "metadata": {
        "id": "Gi3wPB4t6Rwc"
      },
      "source": [
        "`list.pop` remove e retorna o último elemento da lista:"
      ]
    },
    {
      "cell_type": "code",
      "execution_count": 64,
      "metadata": {
        "colab": {
          "base_uri": "https://localhost:8080/"
        },
        "id": "BuDas3UH6Rwc",
        "outputId": "59e93348-346d-42d7-9f16-92c3813e6167"
      },
      "outputs": [
        {
          "output_type": "stream",
          "name": "stdout",
          "text": [
            "netuno\n"
          ]
        },
        {
          "output_type": "execute_result",
          "data": {
            "text/plain": [
              "['Plutão', 'venus', 'terra', 'marte', 'jupiter', 'saturno', 'urano']"
            ]
          },
          "metadata": {},
          "execution_count": 64
        }
      ],
      "source": [
        "ultimo_planeta = planetas.pop()\n",
        "print(ultimo_planeta)\n",
        "planetas"
      ]
    },
    {
      "cell_type": "code",
      "execution_count": null,
      "metadata": {
        "id": "MFBr5V1h6Rwd"
      },
      "outputs": [],
      "source": []
    },
    {
      "cell_type": "markdown",
      "metadata": {
        "id": "s8k3PUWS6Rwd"
      },
      "source": [
        "`reverse` reverte a ordem dos elementos da lista."
      ]
    },
    {
      "cell_type": "code",
      "execution_count": 65,
      "metadata": {
        "colab": {
          "base_uri": "https://localhost:8080/"
        },
        "id": "ArODtWIn6Rwd",
        "outputId": "4657fb82-26b2-4119-e6cd-e719dce07839"
      },
      "outputs": [
        {
          "output_type": "execute_result",
          "data": {
            "text/plain": [
              "['mercurio',\n",
              " 'venus',\n",
              " 'terra',\n",
              " 'marte',\n",
              " 'jupiter',\n",
              " 'saturno',\n",
              " 'urano',\n",
              " 'netuno']"
            ]
          },
          "metadata": {},
          "execution_count": 65
        }
      ],
      "source": [
        "planetas = ['mercurio', 'venus', 'terra', 'marte', 'jupiter', 'saturno', 'urano', 'netuno']\n",
        "planetas"
      ]
    },
    {
      "cell_type": "code",
      "source": [
        "planetas.reverse() #Reverte in place - (na própria lista)\n",
        "print(planetas)\n"
      ],
      "metadata": {
        "colab": {
          "base_uri": "https://localhost:8080/"
        },
        "id": "QMIZ2gQWR23k",
        "outputId": "052f4a55-1350-4130-89d9-ff390219c534"
      },
      "execution_count": 66,
      "outputs": [
        {
          "output_type": "stream",
          "name": "stdout",
          "text": [
            "['netuno', 'urano', 'saturno', 'jupiter', 'marte', 'terra', 'venus', 'mercurio']\n"
          ]
        }
      ]
    },
    {
      "cell_type": "code",
      "execution_count": null,
      "metadata": {
        "id": "iE8dvESr6Rwd"
      },
      "outputs": [],
      "source": []
    },
    {
      "cell_type": "markdown",
      "metadata": {
        "id": "_uSKSrB_6Rwd"
      },
      "source": [
        "O possível problema é que a **própria lista** é revertida. <br>\n",
        "Caso você deseje ter uma **cópia revertida** da lista:"
      ]
    },
    {
      "cell_type": "code",
      "execution_count": 68,
      "metadata": {
        "colab": {
          "base_uri": "https://localhost:8080/"
        },
        "id": "OZ15v-0Y6Rwd",
        "outputId": "f0321bbd-45cb-4f39-dbf9-37c0303fc1e8"
      },
      "outputs": [
        {
          "output_type": "execute_result",
          "data": {
            "text/plain": [
              "['netuno',\n",
              " 'urano',\n",
              " 'saturno',\n",
              " 'jupiter',\n",
              " 'marte',\n",
              " 'terra',\n",
              " 'venus',\n",
              " 'mercurio']"
            ]
          },
          "metadata": {},
          "execution_count": 68
        }
      ],
      "source": [
        "planetas = ['mercurio', 'venus', 'terra', 'marte', 'jupiter', 'saturno', 'urano', 'netuno']\n",
        "planetas_revertida = list(planetas)\n",
        "planetas_revertida.reverse()\n",
        "planetas_revertida"
      ]
    },
    {
      "cell_type": "code",
      "source": [
        "planetas"
      ],
      "metadata": {
        "colab": {
          "base_uri": "https://localhost:8080/"
        },
        "id": "gbqkpZJxSX2T",
        "outputId": "b0d939fe-3181-4362-e904-72eb15212c43"
      },
      "execution_count": 71,
      "outputs": [
        {
          "output_type": "execute_result",
          "data": {
            "text/plain": [
              "['mercurio',\n",
              " 'venus',\n",
              " 'terra',\n",
              " 'marte',\n",
              " 'jupiter',\n",
              " 'saturno',\n",
              " 'urano',\n",
              " 'netuno']"
            ]
          },
          "metadata": {},
          "execution_count": 71
        }
      ]
    },
    {
      "cell_type": "markdown",
      "metadata": {
        "id": "IR25J79S6Rwd"
      },
      "source": [
        "#### Ordenação de listas"
      ]
    },
    {
      "cell_type": "markdown",
      "metadata": {
        "id": "rMHIRt1X6Rwe"
      },
      "source": [
        "`sorted` retorna uma versão **ordernada (em ordem crescente)** de uma lista (NÃO ALTERA A LISTA ATUAL)"
      ]
    },
    {
      "cell_type": "code",
      "execution_count": 70,
      "metadata": {
        "colab": {
          "base_uri": "https://localhost:8080/"
        },
        "id": "_mH29MBr6Rwe",
        "outputId": "85066eb8-26a8-4482-a13b-f193c9206238"
      },
      "outputs": [
        {
          "output_type": "execute_result",
          "data": {
            "text/plain": [
              "['jupiter',\n",
              " 'marte',\n",
              " 'mercurio',\n",
              " 'netuno',\n",
              " 'saturno',\n",
              " 'terra',\n",
              " 'urano',\n",
              " 'venus']"
            ]
          },
          "metadata": {},
          "execution_count": 70
        }
      ],
      "source": [
        "planetas_ordenados = sorted(planetas)\n",
        "planetas_ordenados"
      ]
    },
    {
      "cell_type": "code",
      "execution_count": 75,
      "metadata": {
        "colab": {
          "base_uri": "https://localhost:8080/"
        },
        "id": "ODr36nI56Rwe",
        "outputId": "958855e2-3407-4ffe-ce42-d422a1be0e9e"
      },
      "outputs": [
        {
          "output_type": "stream",
          "name": "stdout",
          "text": [
            "[2, 654, 50, 10]\n"
          ]
        }
      ],
      "source": [
        "lista_de_numeros\n",
        "lista_de_numeros.reverse() #também é in place\n",
        "print(lista_de_numeros)"
      ]
    },
    {
      "cell_type": "markdown",
      "metadata": {
        "id": "WlJUOXN26Rwe"
      },
      "source": [
        "##### Para ordernar em **ordem descrente**"
      ]
    },
    {
      "cell_type": "code",
      "execution_count": 76,
      "metadata": {
        "colab": {
          "base_uri": "https://localhost:8080/"
        },
        "id": "TNT2tmqr6Rwe",
        "outputId": "a13797f0-f95c-432c-a29d-13d0a8473ae1"
      },
      "outputs": [
        {
          "output_type": "stream",
          "name": "stdout",
          "text": [
            "[10, 50, 654, 2]\n"
          ]
        }
      ],
      "source": [
        "lista_de_numeros\n",
        "lista_de_numeros.reverse() #também é in place\n",
        "print(lista_de_numeros)"
      ]
    },
    {
      "cell_type": "code",
      "execution_count": null,
      "metadata": {
        "id": "fLUVV6SZ6Rwe"
      },
      "outputs": [],
      "source": []
    },
    {
      "cell_type": "markdown",
      "metadata": {
        "id": "PLbndJVb6Rwe"
      },
      "source": [
        "#### Buscando elementos em uma lista"
      ]
    },
    {
      "cell_type": "markdown",
      "metadata": {
        "id": "g1ua2XZg6Rwf"
      },
      "source": [
        "`list.index` retorna o índice de um dado elemento da lista, ou lança uma exception caso ele não esteja presente na lista."
      ]
    },
    {
      "cell_type": "code",
      "execution_count": 77,
      "metadata": {
        "colab": {
          "base_uri": "https://localhost:8080/"
        },
        "id": "I72R79cz6Rwf",
        "outputId": "af087cf0-4d87-4dfe-db8a-10a99a5541f5"
      },
      "outputs": [
        {
          "output_type": "stream",
          "name": "stdout",
          "text": [
            "['mercurio', 'venus', 'terra', 'marte', 'jupiter', 'saturno', 'urano', 'netuno']\n"
          ]
        }
      ],
      "source": [
        "print(planetas)"
      ]
    },
    {
      "cell_type": "code",
      "execution_count": 78,
      "metadata": {
        "colab": {
          "base_uri": "https://localhost:8080/"
        },
        "id": "pkkG7K1K6Rwf",
        "outputId": "458c7d61-38da-4fd0-df27-5c25abf7dac4"
      },
      "outputs": [
        {
          "output_type": "execute_result",
          "data": {
            "text/plain": [
              "3"
            ]
          },
          "metadata": {},
          "execution_count": 78
        }
      ],
      "source": [
        "planetas.index('marte')"
      ]
    },
    {
      "cell_type": "code",
      "execution_count": null,
      "metadata": {
        "id": "10A5TzOI6Rwf"
      },
      "outputs": [],
      "source": []
    },
    {
      "cell_type": "markdown",
      "metadata": {
        "id": "eWYcZLOw6Rwf"
      },
      "source": [
        "Outra alternativa melhor para saber se **uma lista contém ou não um dado elemento**, sem o lançamento de exception, é usar o `in`:"
      ]
    },
    {
      "cell_type": "code",
      "execution_count": 79,
      "metadata": {
        "colab": {
          "base_uri": "https://localhost:8080/"
        },
        "id": "TE4ye3zf6Rwf",
        "outputId": "281f4508-1a5c-4da6-8e45-bf5d93b2b0a5"
      },
      "outputs": [
        {
          "output_type": "execute_result",
          "data": {
            "text/plain": [
              "True"
            ]
          },
          "metadata": {},
          "execution_count": 79
        }
      ],
      "source": [
        "'marte' in planetas"
      ]
    },
    {
      "cell_type": "code",
      "execution_count": 80,
      "metadata": {
        "colab": {
          "base_uri": "https://localhost:8080/"
        },
        "id": "dEI_RatM6Rwf",
        "outputId": "7db15592-514b-426c-b693-f604034e0591"
      },
      "outputs": [
        {
          "output_type": "execute_result",
          "data": {
            "text/plain": [
              "False"
            ]
          },
          "metadata": {},
          "execution_count": 80
        }
      ],
      "source": [
        "'palhaço' in planetas"
      ]
    },
    {
      "cell_type": "markdown",
      "metadata": {
        "id": "WrETs8fQ6Rwg"
      },
      "source": [
        "Podemos ainda usar o `not in` para checar se a lista **não possui um dado elemento**:"
      ]
    },
    {
      "cell_type": "code",
      "execution_count": null,
      "metadata": {
        "id": "hvo40P8O6Rwg"
      },
      "outputs": [],
      "source": []
    },
    {
      "cell_type": "markdown",
      "metadata": {
        "id": "56bW7XdB6Rwg"
      },
      "source": [
        "#### Concatenando listas\n",
        "Suponha que desejamos juntar/concatenar duas listas em uma só. <br/>\n",
        "Podemos tentar usar o método `append`, pois ele adiciona um dado elemento ao final da lista.\n",
        "Vejamos:"
      ]
    },
    {
      "cell_type": "code",
      "execution_count": null,
      "metadata": {
        "id": "cDYtigEN6Rwg"
      },
      "outputs": [],
      "source": []
    },
    {
      "cell_type": "code",
      "execution_count": null,
      "metadata": {
        "id": "p83ZZ1oS6Rwg"
      },
      "outputs": [],
      "source": []
    },
    {
      "cell_type": "code",
      "execution_count": null,
      "metadata": {
        "id": "w_j5C7o86Rwg"
      },
      "outputs": [],
      "source": []
    },
    {
      "cell_type": "code",
      "execution_count": null,
      "metadata": {
        "id": "AoYNOLCW6Rwg"
      },
      "outputs": [],
      "source": []
    },
    {
      "cell_type": "markdown",
      "metadata": {
        "id": "nWl5q-DD6Rwh"
      },
      "source": [
        "Note que a a lista `cidades_estado_sp` tem agora alguns elementos que são _strings_, e o último elemento é uma _lista_. <br/>\n",
        "O que queremos, na verdade, é ter uma lista **apenas com _strings_**.\n",
        "\n",
        "Para isso, podemo usar o método `lista.extend(lista_2)` que vai copiar todos os elementos dentro da lista `lista_2` e colocá-los no final da lista `lista`."
      ]
    },
    {
      "cell_type": "code",
      "execution_count": null,
      "metadata": {
        "id": "TuQV9z8h6Rwh"
      },
      "outputs": [],
      "source": []
    },
    {
      "cell_type": "code",
      "execution_count": null,
      "metadata": {
        "id": "Mxs1iSTg6Rwh"
      },
      "outputs": [],
      "source": []
    },
    {
      "cell_type": "markdown",
      "metadata": {
        "id": "cVRZE_v16Rwh"
      },
      "source": [
        "### List Comprehensions\n",
        "É uma forma curta de se criar listas."
      ]
    },
    {
      "cell_type": "markdown",
      "metadata": {
        "id": "L68BQs5K6Rwh"
      },
      "source": [
        "**Ex 1)** Suponha que queremos criar uma lista cujo valor do índice [i] é i^2 (o índice ao quadrado). <br/>\n",
        "Uma forma padrão seria:"
      ]
    },
    {
      "cell_type": "code",
      "execution_count": null,
      "metadata": {
        "id": "0bz1iE0x6Rwi"
      },
      "outputs": [],
      "source": []
    },
    {
      "cell_type": "markdown",
      "metadata": {
        "id": "SP2poRil6Rwi"
      },
      "source": [
        "Usando o **list comprehensions**:"
      ]
    },
    {
      "cell_type": "code",
      "execution_count": null,
      "metadata": {
        "id": "340sQqGX6Rwi"
      },
      "outputs": [],
      "source": []
    },
    {
      "cell_type": "markdown",
      "metadata": {
        "id": "Ezk7HYmP6Rwi"
      },
      "source": [
        "**Ex 2)** Filtrando os elementos negativos de uma lista:"
      ]
    },
    {
      "cell_type": "code",
      "execution_count": null,
      "metadata": {
        "id": "xzg3fpQ_6Rwi"
      },
      "outputs": [],
      "source": []
    },
    {
      "cell_type": "markdown",
      "metadata": {
        "id": "QTzxuVSy6Rwi"
      },
      "source": [
        "Outra maneira de aplicar funções a listas é usar **lambda functions**."
      ]
    },
    {
      "cell_type": "markdown",
      "metadata": {
        "id": "YN6_CYsP6Rwj"
      },
      "source": [
        "**Ex 3)** Lambda functions:"
      ]
    },
    {
      "cell_type": "code",
      "execution_count": null,
      "metadata": {
        "id": "I8QmVZ016Rwj"
      },
      "outputs": [],
      "source": []
    }
  ],
  "metadata": {
    "kernelspec": {
      "display_name": "Python 3",
      "language": "python",
      "name": "python3"
    },
    "language_info": {
      "codemirror_mode": {
        "name": "ipython",
        "version": 3
      },
      "file_extension": ".py",
      "mimetype": "text/x-python",
      "name": "python",
      "nbconvert_exporter": "python",
      "pygments_lexer": "ipython3",
      "version": "3.9.0"
    },
    "colab": {
      "provenance": [],
      "include_colab_link": true
    }
  },
  "nbformat": 4,
  "nbformat_minor": 0
}